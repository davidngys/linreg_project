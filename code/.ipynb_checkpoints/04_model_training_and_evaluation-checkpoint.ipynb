{
 "cells": [
  {
   "cell_type": "markdown",
   "metadata": {},
   "source": [
    "# DSI19 Project 2 - Model training and processing notebook   \n",
    " \n",
    "----"
   ]
  },
  {
   "cell_type": "markdown",
   "metadata": {},
   "source": [
    "## Table of Contents\n",
    "\n",
    "* [1. Model Preparation](#chapter1)\n",
    "    * [1.1 Creating the features matrix `X` and target variable `y`](#section_1_1)\n",
    "    * [1.2 Train/test split](#section_1_2)\n",
    "    * [1.3 Scaling the data](#section_1_3)\n",
    "    * [1.4 Instantiating the models](#section_1_4)\n",
    "* [2. Model Evaluation](#chapter2)\n",
    "    * [2.1 Obtaining `cross_val_score` based on `x_train`](#section_2_1)\n",
    "    * [2.2 Obtaining `cross_val_score` based on `x_test`](#section_2_2)\n",
    "    * [2.3 Conclusion](#section_2_3)\n",
    "* [3. Initial Model Fitting and Evaluation](#chapter3)\n",
    "    * [3.1 Fitting model on full data set](#section_3_1)\n",
    "    * [3.2 Predictions vs actuals](#section_3_2)\n",
    "    * [3.3 Residuals](#section_3_3)\n",
    "    * [3.4 Additional outliers evaluation](#section_3_4)\n",
    "    * [3.4 Coefficients](#section_3_5)\n",
    "* [4. Further Model Refinement](#chapter4)\n",
    "    * [4.1 Defining refined selection of features as `X_ref` and scaling the data](#section_4_1)\n",
    "    * [4.2 Refined model fitting](#section_4_2)\n",
    "    * [4.3 Actuals vs Prediction based on refined model](#section_4_3)\n",
    "    * [4.4 Residuals for refined model](#section_4_4)\n",
    "    * [4.5 Evaluation of results](#section_4_5)\n",
    "* [5. Test Data Prediction](#chapter5)\n",
    "    * [5.1 Original features lasso model](#section_5_1)\n",
    "    * [5.2 Refined features lasso model](#section_5_2)\n",
    "    * [5.3 Kaggle results](#section_5_3)\n",
    "* [6. Conclusion](#chapter6)\n",
    "* [7. Limitations](#chapter7)\n",
    "    * [7.1 Long term prediction](#section_7_1)\n",
    "    * [7.2 Scope](#section_7_2)\n",
    "    * [7.3 Location score](#section_7_3)\n"
   ]
  },
  {
   "cell_type": "code",
   "execution_count": 1,
   "metadata": {},
   "outputs": [],
   "source": [
    "# Import python modules\n",
    "import pandas as pd\n",
    "import numpy as np\n",
    "import seaborn as sns \n",
    "import matplotlib.pyplot as plt\n",
    "from sklearn.model_selection import cross_val_score, train_test_split\n",
    "from sklearn.linear_model import LassoCV, LinearRegression, RidgeCV, ElasticNet, ElasticNetCV\n",
    "from sklearn.preprocessing import StandardScaler\n",
    "from sklearn.metrics import r2_score, mean_squared_error\n",
    "\n",
    "%config InLineBackend.figure_format = 'retina'\n",
    "%matplotlib inline"
   ]
  },
  {
   "cell_type": "code",
   "execution_count": 2,
   "metadata": {},
   "outputs": [],
   "source": [
    "# Read in data set\n",
    "train_df = pd.read_csv('../datasets/train_model.csv').drop('Unnamed: 0',axis=1)\n",
    "test_df = pd.read_csv('../datasets/test_model.csv').drop('Unnamed: 0',axis=1)"
   ]
  },
  {
   "cell_type": "markdown",
   "metadata": {},
   "source": [
    "## 1. Model Preparation <a class=\"anchor\" id=\"chapter1\"></a>\n",
    "---\n",
    "\n",
    "### 1.1 Creating the features matrix `X` and target variable `y` <a class=\"anchor\" id=\"section_1_1\"></a>\n",
    "\n",
    "Every numerical column in the `train_df` will initially be used as a feature. All non-numeric columns were previously engineered into numeric columns using various methods in previous notebooks.  \n",
    "The target variable is `SalePrice`."
   ]
  },
  {
   "cell_type": "code",
   "execution_count": 3,
   "metadata": {},
   "outputs": [],
   "source": [
    "features = list(train_df.columns.drop(['SalePrice','Id']))\n",
    "X = train_df[features]\n",
    "y = train_df['SalePrice']"
   ]
  },
  {
   "cell_type": "markdown",
   "metadata": {},
   "source": [
    "### 1.2 Train/test split <a class=\"anchor\" id=\"section_1_2\"></a>\n",
    "The training data will be split into a model set and holdout set."
   ]
  },
  {
   "cell_type": "code",
   "execution_count": 4,
   "metadata": {},
   "outputs": [],
   "source": [
    "X_train, X_test, y_train, y_test = train_test_split(X,y,shuffle=True)"
   ]
  },
  {
   "cell_type": "markdown",
   "metadata": {},
   "source": [
    "### 1.3 Scaling the data <a class=\"anchor\" id=\"section_1_2\"></a>\n",
    "As Lasso and Ridge models will be used, the data needs to be scaled using `StandardScalar`."
   ]
  },
  {
   "cell_type": "code",
   "execution_count": 5,
   "metadata": {},
   "outputs": [],
   "source": [
    "# Instantiate scalar\n",
    "ss = StandardScaler()\n",
    "\n",
    "# Fit scalar to training set\n",
    "ss.fit(X_train)\n",
    "\n",
    "# Transform training set and testing set\n",
    "X_train_ss = ss.transform(X_train)\n",
    "X_test_ss = ss.transform(X_test)"
   ]
  },
  {
   "cell_type": "markdown",
   "metadata": {},
   "source": [
    "### 1.4 Instantiating the models <a class=\"anchor\" id=\"section_1_4\"></a>\n",
    "Models used will be:\n",
    "- `LinearRegression`\n",
    "- `LassoCV`\n",
    "- `RidgeCV`\n",
    "- `ElasticNetCV`\n",
    "\n",
    "Instances of all 4 models will be created."
   ]
  },
  {
   "cell_type": "code",
   "execution_count": 6,
   "metadata": {},
   "outputs": [],
   "source": [
    "# Instantiating instances of all 4 models\n",
    "lr = LinearRegression()\n",
    "lasso = LassoCV(n_alphas = 200, max_iter=2000, n_jobs=-1)\n",
    "ridge = RidgeCV(alphas = np.linspace(.001,1,100))\n",
    "enet = ElasticNetCV(l1_ratio=np.linspace(.001,1,100), n_alphas=200, n_jobs=-1)"
   ]
  },
  {
   "cell_type": "markdown",
   "metadata": {},
   "source": [
    "## 2. Model Evaluation <a class=\"anchor\" id=\"chapter2\"></a>\n",
    "---\n",
    "\n",
    "`cross_val_score` will be used to evaluate all 4 models.\n",
    "\n",
    "### 2.1 Obtaining `cross_val_score` based on `x_train` <a class=\"anchor\" id=\"section_2_1\"></a>"
   ]
  },
  {
   "cell_type": "code",
   "execution_count": 7,
   "metadata": {},
   "outputs": [
    {
     "data": {
      "text/html": [
       "<div>\n",
       "<style scoped>\n",
       "    .dataframe tbody tr th:only-of-type {\n",
       "        vertical-align: middle;\n",
       "    }\n",
       "\n",
       "    .dataframe tbody tr th {\n",
       "        vertical-align: top;\n",
       "    }\n",
       "\n",
       "    .dataframe thead th {\n",
       "        text-align: right;\n",
       "    }\n",
       "</style>\n",
       "<table border=\"1\" class=\"dataframe\">\n",
       "  <thead>\n",
       "    <tr style=\"text-align: right;\">\n",
       "      <th></th>\n",
       "      <th>lr</th>\n",
       "      <th>lasso</th>\n",
       "      <th>ridge</th>\n",
       "      <th>enet</th>\n",
       "    </tr>\n",
       "  </thead>\n",
       "  <tbody>\n",
       "    <tr>\n",
       "      <th>R2_train</th>\n",
       "      <td>89.209564</td>\n",
       "      <td>89.559746</td>\n",
       "      <td>89.218119</td>\n",
       "      <td>89.559746</td>\n",
       "    </tr>\n",
       "  </tbody>\n",
       "</table>\n",
       "</div>"
      ],
      "text/plain": [
       "                 lr      lasso      ridge       enet\n",
       "R2_train  89.209564  89.559746  89.218119  89.559746"
      ]
     },
     "metadata": {},
     "output_type": "display_data"
    }
   ],
   "source": [
    "# Obtain cross_val_score of X_train for each model based on 10 folds\n",
    "model_dict = {'lr':lr,'lasso':lasso,'ridge':ridge,'enet':enet}\n",
    "\n",
    "cv_score_dict = {}\n",
    "for key,value in model_dict.items():\n",
    "    cv_score_dict[key] = cross_val_score(value, X_train_ss, y_train, cv = 10).mean() *100\n",
    "    \n",
    "cv_train_df = pd.DataFrame(cv_score_dict.values(),index=cv_score_dict.keys(),columns=['R2_train'])\n",
    "display(cv_train_df.T)"
   ]
  },
  {
   "cell_type": "markdown",
   "metadata": {},
   "source": [
    "The cross validation scores for 10 folds reveals that the `lasso` model is the strongest. Given that the `enet` score is exactly the same as the `lasso`, we can infer that the alpha is 1, meaning that enet has evaluated the optimal mix of `lasso` and `ridge1` to be 100% `lasso`."
   ]
  },
  {
   "cell_type": "markdown",
   "metadata": {},
   "source": [
    "### 2.2 Obtaining `cross_val_score` based on `x_test` <a class=\"anchor\" id=\"section_2_2\"></a>"
   ]
  },
  {
   "cell_type": "code",
   "execution_count": 8,
   "metadata": {},
   "outputs": [
    {
     "data": {
      "text/html": [
       "<div>\n",
       "<style scoped>\n",
       "    .dataframe tbody tr th:only-of-type {\n",
       "        vertical-align: middle;\n",
       "    }\n",
       "\n",
       "    .dataframe tbody tr th {\n",
       "        vertical-align: top;\n",
       "    }\n",
       "\n",
       "    .dataframe thead th {\n",
       "        text-align: right;\n",
       "    }\n",
       "</style>\n",
       "<table border=\"1\" class=\"dataframe\">\n",
       "  <thead>\n",
       "    <tr style=\"text-align: right;\">\n",
       "      <th></th>\n",
       "      <th>lr</th>\n",
       "      <th>lasso</th>\n",
       "      <th>ridge</th>\n",
       "      <th>enet</th>\n",
       "    </tr>\n",
       "  </thead>\n",
       "  <tbody>\n",
       "    <tr>\n",
       "      <th>R2_test</th>\n",
       "      <td>-2.706548e+25</td>\n",
       "      <td>87.282461</td>\n",
       "      <td>84.830397</td>\n",
       "      <td>87.282461</td>\n",
       "    </tr>\n",
       "  </tbody>\n",
       "</table>\n",
       "</div>"
      ],
      "text/plain": [
       "                   lr      lasso      ridge       enet\n",
       "R2_test -2.706548e+25  87.282461  84.830397  87.282461"
      ]
     },
     "metadata": {},
     "output_type": "display_data"
    }
   ],
   "source": [
    "# Obtain cross_val_score of X_test for each model based on 10 folds\n",
    "model_dict = {'lr':lr,'lasso':lasso,'ridge':ridge,'enet':enet}\n",
    "\n",
    "cv_score_dict = {}\n",
    "for key,value in model_dict.items():\n",
    "    cv_score_dict[key] = cross_val_score(value, X_test_ss, y_test, cv = 10).mean() *100\n",
    "    \n",
    "cv_test_df = pd.DataFrame(cv_score_dict.values(),index=cv_score_dict.keys(),columns=['R2_test'])\n",
    "display(cv_test_df.T)"
   ]
  },
  {
   "cell_type": "markdown",
   "metadata": {},
   "source": [
    "The cross validation scores based on the `X_test` showed similar scores to the `X_train` set."
   ]
  },
  {
   "cell_type": "markdown",
   "metadata": {},
   "source": [
    "### 2.3 Conclusion <a class=\"anchor\" id=\"section_2_3\"></a>"
   ]
  },
  {
   "cell_type": "code",
   "execution_count": 9,
   "metadata": {},
   "outputs": [
    {
     "data": {
      "text/html": [
       "<div>\n",
       "<style scoped>\n",
       "    .dataframe tbody tr th:only-of-type {\n",
       "        vertical-align: middle;\n",
       "    }\n",
       "\n",
       "    .dataframe tbody tr th {\n",
       "        vertical-align: top;\n",
       "    }\n",
       "\n",
       "    .dataframe thead th {\n",
       "        text-align: right;\n",
       "    }\n",
       "</style>\n",
       "<table border=\"1\" class=\"dataframe\">\n",
       "  <thead>\n",
       "    <tr style=\"text-align: right;\">\n",
       "      <th></th>\n",
       "      <th>R2_train</th>\n",
       "      <th>R2_test</th>\n",
       "      <th>train_test_diff</th>\n",
       "    </tr>\n",
       "  </thead>\n",
       "  <tbody>\n",
       "    <tr>\n",
       "      <th>lr</th>\n",
       "      <td>89.209564</td>\n",
       "      <td>-2.706548e+25</td>\n",
       "      <td>2.706548e+25</td>\n",
       "    </tr>\n",
       "    <tr>\n",
       "      <th>lasso</th>\n",
       "      <td>89.559746</td>\n",
       "      <td>8.728246e+01</td>\n",
       "      <td>2.277284e+00</td>\n",
       "    </tr>\n",
       "    <tr>\n",
       "      <th>ridge</th>\n",
       "      <td>89.218119</td>\n",
       "      <td>8.483040e+01</td>\n",
       "      <td>4.387722e+00</td>\n",
       "    </tr>\n",
       "    <tr>\n",
       "      <th>enet</th>\n",
       "      <td>89.559746</td>\n",
       "      <td>8.728246e+01</td>\n",
       "      <td>2.277284e+00</td>\n",
       "    </tr>\n",
       "  </tbody>\n",
       "</table>\n",
       "</div>"
      ],
      "text/plain": [
       "        R2_train       R2_test  train_test_diff\n",
       "lr     89.209564 -2.706548e+25     2.706548e+25\n",
       "lasso  89.559746  8.728246e+01     2.277284e+00\n",
       "ridge  89.218119  8.483040e+01     4.387722e+00\n",
       "enet   89.559746  8.728246e+01     2.277284e+00"
      ]
     },
     "metadata": {},
     "output_type": "display_data"
    }
   ],
   "source": [
    "# Observing differences between R2 scores between X_train and X_test\n",
    "cv_eval_df = cv_train_df.merge(cv_test_df,left_index=True,right_index=True)\n",
    "cv_eval_df['train_test_diff'] = cv_eval_df['R2_train'] - cv_eval_df['R2_test']\n",
    "display(cv_eval_df)"
   ]
  },
  {
   "cell_type": "markdown",
   "metadata": {},
   "source": [
    "- Model with best R2 score is consistently `LassoCV`\n",
    "- Model with the smallest difference between the train set and test set (disregarding standard `Linear Regression` due to very low R2 score) is also `LassoCV`\n",
    "- Scores from `Elastic Net` further support this as the scores are exactly identical to `LassoCV`, showing that `Elastic Net` is using a mix of 100% `Lasso`\n",
    "- Scores from `Lasso` imply that is has the lowest Bias (due to highest R2 score) and Variance (due to smallest difference between train and test R2 score)\n",
    "\n",
    "**Conclusion**  \n",
    "`LassoCV` will be the model used."
   ]
  },
  {
   "cell_type": "markdown",
   "metadata": {},
   "source": [
    "## 3. Initial Model Fitting and Evaluation <a class=\"anchor\" id=\"chapter3\"></a>\n",
    "---\n",
    "Given the model evaluation results, `LassoCV` will be used as the model going forward. The entire `X` dataset will now be scaled and fitted."
   ]
  },
  {
   "cell_type": "markdown",
   "metadata": {},
   "source": [
    "### 3.1 Fitting model on full data set <a class=\"anchor\" id=\"section_3_1\"></a>"
   ]
  },
  {
   "cell_type": "code",
   "execution_count": 11,
   "metadata": {},
   "outputs": [
    {
     "name": "stdout",
     "output_type": "stream",
     "text": [
      "The Lasso score is 0.9008.\n"
     ]
    }
   ],
   "source": [
    "# Fit scalar to entire X dataset and transform\n",
    "ss.fit(X)\n",
    "Xss = ss.transform(X)\n",
    "\n",
    "# Fit Lasso model\n",
    "lasso.fit(Xss,y)\n",
    "lasso_fit_score = lasso.score(Xss,y)\n",
    "print(f\"The Lasso score is {round(lasso_fit_score,4)}.\")"
   ]
  },
  {
   "cell_type": "markdown",
   "metadata": {},
   "source": [
    "### 3.2 Predictions vs actuals <a class=\"anchor\" id=\"section_3_2\"></a>"
   ]
  },
  {
   "cell_type": "code",
   "execution_count": 31,
   "metadata": {},
   "outputs": [
    {
     "data": {
      "image/png": "[encoded data removed]",
      "text/plain": [
       "<Figure size 1080x720 with 1 Axes>"
      ]
     },
     "metadata": {
      "needs_background": "light"
     },
     "output_type": "display_data"
    }
   ],
   "source": [
    "# Obtain prediction values\n",
    "pred = lasso.predict(Xss)\n",
    "# Plot predictions vs actual values\n",
    "plt.figure(figsize=(15,10))\n",
    "plt.title(\"Plot of Actual vs Predicted Sale Price\", size = 15)\n",
    "plt.xlabel(\"Actual Sale Price\")\n",
    "plt.ylabel(\"Predicted Sale Price\")\n",
    "plt.hlines(y=train_df['SalePrice'].mean(),xmin=0,xmax=600000,label = 'Sale Price Mean')\n",
    "sns.regplot(x = y, y = pred,marker='+',line_kws={'color':'indianred'})\n",
    "plt.legend()\n",
    "plt.savefig(\"../images/lasso_pred_1.png\");"
   ]
  },
  {
   "cell_type": "markdown",
   "metadata": {},
   "source": [
    "Plotting the actual target vs the predicted targe values, we see a relatively good linear relationship between the 2, reinforcing the high Lasso score of the model obtained earlier."
   ]
  },
  {
   "cell_type": "code",
   "execution_count": 33,
   "metadata": {},
   "outputs": [
    {
     "data": {
      "image/png": "[encoded data removed]",
      "text/plain": [
       "<Figure size 864x576 with 1 Axes>"
      ]
     },
     "metadata": {
      "needs_background": "light"
     },
     "output_type": "display_data"
    }
   ],
   "source": [
    "# Histogram of predictions vs actuals\n",
    "plt.figure(figsize=(12,8))\n",
    "plt.title(\"Distribution of Predictions vs Actuals\",size=15)\n",
    "plt.xlabel(\"Sale Price\")\n",
    "plt.ylabel(\"Count\")\n",
    "plt.hist(pred,bins=100,alpha=0.5,label=\"Predictions\")\n",
    "plt.hist(y,bins=100,alpha=0.5,label=\"Actuals\")\n",
    "plt.vlines(y.mean(),ymin=0,ymax=130,color='indianred',label=\"Mean\")\n",
    "plt.legend();"
   ]
  },
  {
   "cell_type": "markdown",
   "metadata": {},
   "source": [
    "From the distribution, we see that our predictions do generally quite well as the two distributions largely overlap."
   ]
  },
  {
   "cell_type": "markdown",
   "metadata": {},
   "source": [
    "### 3.3 Residuals <a class=\"anchor\" id=\"section_3_3\"></a>"
   ]
  },
  {
   "cell_type": "code",
   "execution_count": 101,
   "metadata": {},
   "outputs": [
    {
     "name": "stdout",
     "output_type": "stream",
     "text": [
      "The RMSE for the model is 24970.5444.\n"
     ]
    },
    {
     "data": {
      "image/png": "[encoded data removed]",
      "text/plain": [
       "<Figure size 720x360 with 1 Axes>"
      ]
     },
     "metadata": {
      "needs_background": "light"
     },
     "output_type": "display_data"
    }
   ],
   "source": [
    "# Obtaining residuals\n",
    "residuals = y - pred\n",
    "RMSE = np.sqrt(mean_squared_error(y,pred))\n",
    "print(f\"The RMSE for the model is {round(RMSE,4)}.\")\n",
    "\n",
    "# Plot distribution of residuals\n",
    "sns.displot(x=residuals,bins=100,kde=True,aspect=2)\n",
    "plt.title(\"Distribution of Residuals\",size=15)\n",
    "plt.savefig(\"../images/lasso_residuals_1.png\");"
   ]
  },
  {
   "cell_type": "markdown",
   "metadata": {},
   "source": [
    "Residuals are normally distributed with mean 0, implying that the model selected and assumptions used are valid. However, it is also observed that tails are very long and may suggest the existence of additional outliers."
   ]
  },
  {
   "cell_type": "code",
   "execution_count": 65,
   "metadata": {},
   "outputs": [
    {
     "data": {
      "image/png": "[encoded data removed]",
      "text/plain": [
       "<Figure size 864x576 with 1 Axes>"
      ]
     },
     "metadata": {
      "needs_background": "light"
     },
     "output_type": "display_data"
    }
   ],
   "source": [
    "# Plot predictions against residuals to identify outlying points\n",
    "plt.figure(figsize=(12,8))\n",
    "plt.axhline(0, c='r')\n",
    "plt.xlabel(\"Predictions\")\n",
    "plt.ylabel(\"Residuals\")\n",
    "plt.scatter(x=pred,y=residuals,marker=\"+\");"
   ]
  },
  {
   "cell_type": "code",
   "execution_count": 66,
   "metadata": {},
   "outputs": [
    {
     "name": "stdout",
     "output_type": "stream",
     "text": [
      "Top 5 positive residuals\n"
     ]
    },
    {
     "data": {
      "text/html": [
       "<div>\n",
       "<style scoped>\n",
       "    .dataframe tbody tr th:only-of-type {\n",
       "        vertical-align: middle;\n",
       "    }\n",
       "\n",
       "    .dataframe tbody tr th {\n",
       "        vertical-align: top;\n",
       "    }\n",
       "\n",
       "    .dataframe thead th {\n",
       "        text-align: right;\n",
       "    }\n",
       "</style>\n",
       "<table border=\"1\" class=\"dataframe\">\n",
       "  <thead>\n",
       "    <tr style=\"text-align: right;\">\n",
       "      <th></th>\n",
       "      <th>id</th>\n",
       "      <th>residuals</th>\n",
       "    </tr>\n",
       "  </thead>\n",
       "  <tbody>\n",
       "    <tr>\n",
       "      <th>1795</th>\n",
       "      <td>434</td>\n",
       "      <td>199354.188812</td>\n",
       "    </tr>\n",
       "    <tr>\n",
       "      <th>151</th>\n",
       "      <td>2333</td>\n",
       "      <td>188430.051514</td>\n",
       "    </tr>\n",
       "    <tr>\n",
       "      <th>1670</th>\n",
       "      <td>45</td>\n",
       "      <td>182002.628194</td>\n",
       "    </tr>\n",
       "    <tr>\n",
       "      <th>1691</th>\n",
       "      <td>2451</td>\n",
       "      <td>154073.721564</td>\n",
       "    </tr>\n",
       "    <tr>\n",
       "      <th>1962</th>\n",
       "      <td>1638</td>\n",
       "      <td>149627.806901</td>\n",
       "    </tr>\n",
       "  </tbody>\n",
       "</table>\n",
       "</div>"
      ],
      "text/plain": [
       "        id      residuals\n",
       "1795   434  199354.188812\n",
       "151   2333  188430.051514\n",
       "1670    45  182002.628194\n",
       "1691  2451  154073.721564\n",
       "1962  1638  149627.806901"
      ]
     },
     "metadata": {},
     "output_type": "display_data"
    },
    {
     "name": "stdout",
     "output_type": "stream",
     "text": [
      "Top 5 negative residuals\n"
     ]
    },
    {
     "data": {
      "text/html": [
       "<div>\n",
       "<style scoped>\n",
       "    .dataframe tbody tr th:only-of-type {\n",
       "        vertical-align: middle;\n",
       "    }\n",
       "\n",
       "    .dataframe tbody tr th {\n",
       "        vertical-align: top;\n",
       "    }\n",
       "\n",
       "    .dataframe thead th {\n",
       "        text-align: right;\n",
       "    }\n",
       "</style>\n",
       "<table border=\"1\" class=\"dataframe\">\n",
       "  <thead>\n",
       "    <tr style=\"text-align: right;\">\n",
       "      <th></th>\n",
       "      <th>id</th>\n",
       "      <th>residuals</th>\n",
       "    </tr>\n",
       "  </thead>\n",
       "  <tbody>\n",
       "    <tr>\n",
       "      <th>1655</th>\n",
       "      <td>2562</td>\n",
       "      <td>-70265.135560</td>\n",
       "    </tr>\n",
       "    <tr>\n",
       "      <th>1694</th>\n",
       "      <td>1916</td>\n",
       "      <td>-71829.453128</td>\n",
       "    </tr>\n",
       "    <tr>\n",
       "      <th>378</th>\n",
       "      <td>1614</td>\n",
       "      <td>-81058.062189</td>\n",
       "    </tr>\n",
       "    <tr>\n",
       "      <th>348</th>\n",
       "      <td>1783</td>\n",
       "      <td>-134114.227022</td>\n",
       "    </tr>\n",
       "    <tr>\n",
       "      <th>125</th>\n",
       "      <td>1183</td>\n",
       "      <td>-189433.717295</td>\n",
       "    </tr>\n",
       "  </tbody>\n",
       "</table>\n",
       "</div>"
      ],
      "text/plain": [
       "        id      residuals\n",
       "1655  2562  -70265.135560\n",
       "1694  1916  -71829.453128\n",
       "378   1614  -81058.062189\n",
       "348   1783 -134114.227022\n",
       "125   1183 -189433.717295"
      ]
     },
     "metadata": {},
     "output_type": "display_data"
    }
   ],
   "source": [
    "# Observe residuals\n",
    "residuals_df = pd.DataFrame({'id':train_df['Id'], 'residuals':residuals}).sort_values(by='residuals',ascending=False)\n",
    "print(\"Top 5 positive residuals\")\n",
    "display(residuals_df.head())\n",
    "print(\"Top 5 negative residuals\")\n",
    "display(residuals_df.tail())"
   ]
  },
  {
   "cell_type": "markdown",
   "metadata": {},
   "source": [
    "It is observed that there are 4 data points with particularly high residuals of > 180,000."
   ]
  },
  {
   "cell_type": "markdown",
   "metadata": {},
   "source": [
    "### 3.4 Additional outliers evaluation <a class=\"anchor\" id=\"section_3_4\"></a>"
   ]
  },
  {
   "cell_type": "code",
   "execution_count": 67,
   "metadata": {},
   "outputs": [],
   "source": [
    "# Read in pre-transformed file to study potential outliers\n",
    "outlier_df = pd.read_csv(\"../datasets/train_ife.csv\")\n",
    "# Creating list of potential outliers with residuals > +/- 180,000\n",
    "outliers = [434,2333,45,1183]"
   ]
  },
  {
   "cell_type": "code",
   "execution_count": 68,
   "metadata": {},
   "outputs": [
    {
     "data": {
      "text/html": [
       "<div>\n",
       "<style scoped>\n",
       "    .dataframe tbody tr th:only-of-type {\n",
       "        vertical-align: middle;\n",
       "    }\n",
       "\n",
       "    .dataframe tbody tr th {\n",
       "        vertical-align: top;\n",
       "    }\n",
       "\n",
       "    .dataframe thead th {\n",
       "        text-align: right;\n",
       "    }\n",
       "</style>\n",
       "<table border=\"1\" class=\"dataframe\">\n",
       "  <thead>\n",
       "    <tr style=\"text-align: right;\">\n",
       "      <th></th>\n",
       "      <th>Id</th>\n",
       "      <th>Neighborhood</th>\n",
       "      <th>built_in_SF</th>\n",
       "      <th>built_in_ppsf</th>\n",
       "      <th>Yr Sold</th>\n",
       "      <th>Overall Qual</th>\n",
       "      <th>Overall Cond</th>\n",
       "      <th>SalePrice</th>\n",
       "      <th>Sale Type</th>\n",
       "    </tr>\n",
       "  </thead>\n",
       "  <tbody>\n",
       "    <tr>\n",
       "      <th>125</th>\n",
       "      <td>1183</td>\n",
       "      <td>Veenker</td>\n",
       "      <td>4164.0</td>\n",
       "      <td>36.023055</td>\n",
       "      <td>2008</td>\n",
       "      <td>9</td>\n",
       "      <td>3</td>\n",
       "      <td>150000</td>\n",
       "      <td>WD</td>\n",
       "    </tr>\n",
       "    <tr>\n",
       "      <th>151</th>\n",
       "      <td>2333</td>\n",
       "      <td>StoneBr</td>\n",
       "      <td>5182.0</td>\n",
       "      <td>107.406600</td>\n",
       "      <td>2006</td>\n",
       "      <td>9</td>\n",
       "      <td>5</td>\n",
       "      <td>556581</td>\n",
       "      <td>New</td>\n",
       "    </tr>\n",
       "    <tr>\n",
       "      <th>1671</th>\n",
       "      <td>45</td>\n",
       "      <td>NridgHt</td>\n",
       "      <td>4761.0</td>\n",
       "      <td>128.472380</td>\n",
       "      <td>2010</td>\n",
       "      <td>9</td>\n",
       "      <td>5</td>\n",
       "      <td>611657</td>\n",
       "      <td>New</td>\n",
       "    </tr>\n",
       "    <tr>\n",
       "      <th>1796</th>\n",
       "      <td>434</td>\n",
       "      <td>NridgHt</td>\n",
       "      <td>4970.0</td>\n",
       "      <td>117.290342</td>\n",
       "      <td>2009</td>\n",
       "      <td>9</td>\n",
       "      <td>5</td>\n",
       "      <td>582933</td>\n",
       "      <td>New</td>\n",
       "    </tr>\n",
       "  </tbody>\n",
       "</table>\n",
       "</div>"
      ],
      "text/plain": [
       "        Id Neighborhood  built_in_SF  built_in_ppsf  Yr Sold  Overall Qual  \\\n",
       "125   1183      Veenker       4164.0      36.023055     2008             9   \n",
       "151   2333      StoneBr       5182.0     107.406600     2006             9   \n",
       "1671    45      NridgHt       4761.0     128.472380     2010             9   \n",
       "1796   434      NridgHt       4970.0     117.290342     2009             9   \n",
       "\n",
       "      Overall Cond  SalePrice Sale Type  \n",
       "125              3     150000       WD   \n",
       "151              5     556581       New  \n",
       "1671             5     611657       New  \n",
       "1796             5     582933       New  "
      ]
     },
     "metadata": {},
     "output_type": "display_data"
    }
   ],
   "source": [
    "# Observing certain traits of the outlier Ids\n",
    "df1= outlier_df[outlier_df['Id'].isin(outliers)].filter(['Id',\n",
    "                                                    'Neighborhood',\n",
    "                                                    'built_in_SF',\n",
    "                                                    'built_in_ppsf',\n",
    "                                                    'Yr Sold',\n",
    "                                                    'Overall Qual',\n",
    "                                                    'Overall Cond',\n",
    "                                                    'SalePrice',\n",
    "                                                    'Sale Type'])\n",
    "display(df1)"
   ]
  },
  {
   "cell_type": "markdown",
   "metadata": {},
   "source": [
    "Observed that outliers are derived from 3 neighborhoods, `Veenker`, `StoneBr` and `NridgHt`. They also all have the `Overall Qual` score of **9**, which is one of the parameter with the highest correlation with `SalePrice`. In order to assess further, the built-in price per sq ft will be compared to the neighborhood mean."
   ]
  },
  {
   "cell_type": "code",
   "execution_count": 69,
   "metadata": {},
   "outputs": [
    {
     "data": {
      "text/html": [
       "<div>\n",
       "<style scoped>\n",
       "    .dataframe tbody tr th:only-of-type {\n",
       "        vertical-align: middle;\n",
       "    }\n",
       "\n",
       "    .dataframe tbody tr th {\n",
       "        vertical-align: top;\n",
       "    }\n",
       "\n",
       "    .dataframe thead th {\n",
       "        text-align: right;\n",
       "    }\n",
       "</style>\n",
       "<table border=\"1\" class=\"dataframe\">\n",
       "  <thead>\n",
       "    <tr style=\"text-align: right;\">\n",
       "      <th></th>\n",
       "      <th>built_in_ppsf</th>\n",
       "    </tr>\n",
       "    <tr>\n",
       "      <th>Neighborhood</th>\n",
       "      <th></th>\n",
       "    </tr>\n",
       "  </thead>\n",
       "  <tbody>\n",
       "    <tr>\n",
       "      <th>Veenker</th>\n",
       "      <td>71.534643</td>\n",
       "    </tr>\n",
       "    <tr>\n",
       "      <th>StoneBr</th>\n",
       "      <td>84.786848</td>\n",
       "    </tr>\n",
       "    <tr>\n",
       "      <th>NridgHt</th>\n",
       "      <td>83.215446</td>\n",
       "    </tr>\n",
       "  </tbody>\n",
       "</table>\n",
       "</div>"
      ],
      "text/plain": [
       "              built_in_ppsf\n",
       "Neighborhood               \n",
       "Veenker           71.534643\n",
       "StoneBr           84.786848\n",
       "NridgHt           83.215446"
      ]
     },
     "metadata": {},
     "output_type": "display_data"
    }
   ],
   "source": [
    "# Obtaining mean price metric of neighborhoods of outliers\n",
    "df2 = outlier_df[['built_in_ppsf','Neighborhood']].groupby('Neighborhood').mean().filter(['Veenker',\n",
    "                                                                                     'StoneBr',\n",
    "                                                                                     'NridgHt'],\n",
    "                                                                                    axis=0)\n",
    "display(df2)"
   ]
  },
  {
   "cell_type": "code",
   "execution_count": 70,
   "metadata": {},
   "outputs": [
    {
     "data": {
      "text/html": [
       "<div>\n",
       "<style scoped>\n",
       "    .dataframe tbody tr th:only-of-type {\n",
       "        vertical-align: middle;\n",
       "    }\n",
       "\n",
       "    .dataframe tbody tr th {\n",
       "        vertical-align: top;\n",
       "    }\n",
       "\n",
       "    .dataframe thead th {\n",
       "        text-align: right;\n",
       "    }\n",
       "</style>\n",
       "<table border=\"1\" class=\"dataframe\">\n",
       "  <thead>\n",
       "    <tr style=\"text-align: right;\">\n",
       "      <th></th>\n",
       "      <th>Id</th>\n",
       "      <th>Neighborhood</th>\n",
       "      <th>built_in_ppsf_x</th>\n",
       "      <th>built_in_ppsf_y</th>\n",
       "      <th>comparison</th>\n",
       "    </tr>\n",
       "  </thead>\n",
       "  <tbody>\n",
       "    <tr>\n",
       "      <th>0</th>\n",
       "      <td>1183</td>\n",
       "      <td>Veenker</td>\n",
       "      <td>36.023055</td>\n",
       "      <td>71.534643</td>\n",
       "      <td>0.503575</td>\n",
       "    </tr>\n",
       "    <tr>\n",
       "      <th>1</th>\n",
       "      <td>2333</td>\n",
       "      <td>StoneBr</td>\n",
       "      <td>107.406600</td>\n",
       "      <td>84.786848</td>\n",
       "      <td>1.266784</td>\n",
       "    </tr>\n",
       "    <tr>\n",
       "      <th>2</th>\n",
       "      <td>45</td>\n",
       "      <td>NridgHt</td>\n",
       "      <td>128.472380</td>\n",
       "      <td>83.215446</td>\n",
       "      <td>1.543853</td>\n",
       "    </tr>\n",
       "    <tr>\n",
       "      <th>3</th>\n",
       "      <td>434</td>\n",
       "      <td>NridgHt</td>\n",
       "      <td>117.290342</td>\n",
       "      <td>83.215446</td>\n",
       "      <td>1.409478</td>\n",
       "    </tr>\n",
       "  </tbody>\n",
       "</table>\n",
       "</div>"
      ],
      "text/plain": [
       "     Id Neighborhood  built_in_ppsf_x  built_in_ppsf_y  comparison\n",
       "0  1183      Veenker        36.023055        71.534643    0.503575\n",
       "1  2333      StoneBr       107.406600        84.786848    1.266784\n",
       "2    45      NridgHt       128.472380        83.215446    1.543853\n",
       "3   434      NridgHt       117.290342        83.215446    1.409478"
      ]
     },
     "metadata": {},
     "output_type": "display_data"
    }
   ],
   "source": [
    "# Comparing outliers price metric with neighborhood mean\n",
    "df3 = df1.merge(df2,on='Neighborhood')\n",
    "df3['comparison'] = df3['built_in_ppsf_x']/df3['built_in_ppsf_y']\n",
    "display(df3[['Id','Neighborhood','built_in_ppsf_x','built_in_ppsf_y','comparison']])"
   ]
  },
  {
   "cell_type": "markdown",
   "metadata": {},
   "source": [
    "Findings from comparisons:\n",
    "- Property in `Veenkeer` was sold at a 50% lower price per sq ft compared to the neighborhood mean. This is could be due to the `Overall Cond` score of 3. However, the `Overall Qual`, which is the parameter with the highest correlation to price is 9. This price if more than 3 std dev away from the mean and seems very likely to be a sale under abnormal conditions.\n",
    "- Property in `StoneBr` sold for 27% higher than the neighborhood mean. This can be supported by the high `Overall Qual` score of 9 and therefore is not deemed to be an outlier.\n",
    "- Properties in `NrdigHt` are 54%/41% higher than the mean. This is support by the high `Overall Qual` of 9, and the sale type being `New`. Qualitatively, there is insufficient information to understand if these are truly outliers.\n",
    "\n",
    "Conclusion:\n",
    "- Property from Veenker with `Id` of 1183 will be removed as an outlier."
   ]
  },
  {
   "cell_type": "code",
   "execution_count": 71,
   "metadata": {},
   "outputs": [],
   "source": [
    "# Dropping outlier\n",
    "train_df.drop([125],axis=0,inplace=True)"
   ]
  },
  {
   "cell_type": "markdown",
   "metadata": {},
   "source": [
    "### 3.5 Coefficients <a class=\"anchor\" id=\"section_3_5\"></a>"
   ]
  },
  {
   "cell_type": "markdown",
   "metadata": {},
   "source": [
    "Lasso assigns a weightage to each feature which is identified as the coefficient of the feature.  \n",
    "Those features that have been assigned a coefficient of 0 by the model are effectively removed as features.  \n",
    "To further refine the model, these features will be identified and removed."
   ]
  },
  {
   "cell_type": "code",
   "execution_count": 72,
   "metadata": {},
   "outputs": [],
   "source": [
    "# Obtaining Lasso coefficients for features used\n",
    "lasso_coeff_df = pd.DataFrame(lasso.coef_, features,columns=['coeff'])"
   ]
  },
  {
   "cell_type": "code",
   "execution_count": 73,
   "metadata": {},
   "outputs": [
    {
     "data": {
      "text/html": [
       "<div>\n",
       "<style scoped>\n",
       "    .dataframe tbody tr th:only-of-type {\n",
       "        vertical-align: middle;\n",
       "    }\n",
       "\n",
       "    .dataframe tbody tr th {\n",
       "        vertical-align: top;\n",
       "    }\n",
       "\n",
       "    .dataframe thead th {\n",
       "        text-align: right;\n",
       "    }\n",
       "</style>\n",
       "<table border=\"1\" class=\"dataframe\">\n",
       "  <thead>\n",
       "    <tr style=\"text-align: right;\">\n",
       "      <th></th>\n",
       "      <th>coeff</th>\n",
       "    </tr>\n",
       "  </thead>\n",
       "  <tbody>\n",
       "    <tr>\n",
       "      <th>Street</th>\n",
       "      <td>0.0</td>\n",
       "    </tr>\n",
       "    <tr>\n",
       "      <th>Land Contour</th>\n",
       "      <td>-0.0</td>\n",
       "    </tr>\n",
       "    <tr>\n",
       "      <th>House Style</th>\n",
       "      <td>0.0</td>\n",
       "    </tr>\n",
       "    <tr>\n",
       "      <th>Year Built</th>\n",
       "      <td>0.0</td>\n",
       "    </tr>\n",
       "    <tr>\n",
       "      <th>Year Remod/Add</th>\n",
       "      <td>0.0</td>\n",
       "    </tr>\n",
       "    <tr>\n",
       "      <th>Roof Style</th>\n",
       "      <td>-0.0</td>\n",
       "    </tr>\n",
       "    <tr>\n",
       "      <th>Roof Matl</th>\n",
       "      <td>0.0</td>\n",
       "    </tr>\n",
       "    <tr>\n",
       "      <th>Exterior 1st</th>\n",
       "      <td>0.0</td>\n",
       "    </tr>\n",
       "    <tr>\n",
       "      <th>Foundation</th>\n",
       "      <td>0.0</td>\n",
       "    </tr>\n",
       "    <tr>\n",
       "      <th>Bsmt Cond</th>\n",
       "      <td>0.0</td>\n",
       "    </tr>\n",
       "    <tr>\n",
       "      <th>Bsmt Unf SF</th>\n",
       "      <td>-0.0</td>\n",
       "    </tr>\n",
       "    <tr>\n",
       "      <th>2nd Flr SF</th>\n",
       "      <td>0.0</td>\n",
       "    </tr>\n",
       "    <tr>\n",
       "      <th>Bsmt Half Bath</th>\n",
       "      <td>-0.0</td>\n",
       "    </tr>\n",
       "    <tr>\n",
       "      <th>Full Bath</th>\n",
       "      <td>-0.0</td>\n",
       "    </tr>\n",
       "    <tr>\n",
       "      <th>Half Bath</th>\n",
       "      <td>0.0</td>\n",
       "    </tr>\n",
       "    <tr>\n",
       "      <th>Garage Yr Blt</th>\n",
       "      <td>0.0</td>\n",
       "    </tr>\n",
       "    <tr>\n",
       "      <th>Garage Cars</th>\n",
       "      <td>0.0</td>\n",
       "    </tr>\n",
       "    <tr>\n",
       "      <th>Garage Cond</th>\n",
       "      <td>-0.0</td>\n",
       "    </tr>\n",
       "    <tr>\n",
       "      <th>Wood Deck SF</th>\n",
       "      <td>-0.0</td>\n",
       "    </tr>\n",
       "    <tr>\n",
       "      <th>Open Porch SF</th>\n",
       "      <td>-0.0</td>\n",
       "    </tr>\n",
       "    <tr>\n",
       "      <th>3Ssn Porch</th>\n",
       "      <td>-0.0</td>\n",
       "    </tr>\n",
       "    <tr>\n",
       "      <th>Misc Val</th>\n",
       "      <td>-0.0</td>\n",
       "    </tr>\n",
       "    <tr>\n",
       "      <th>Mo Sold</th>\n",
       "      <td>-0.0</td>\n",
       "    </tr>\n",
       "    <tr>\n",
       "      <th>MS Zoning_score</th>\n",
       "      <td>-0.0</td>\n",
       "    </tr>\n",
       "    <tr>\n",
       "      <th>location_score</th>\n",
       "      <td>0.0</td>\n",
       "    </tr>\n",
       "  </tbody>\n",
       "</table>\n",
       "</div>"
      ],
      "text/plain": [
       "                 coeff\n",
       "Street             0.0\n",
       "Land Contour      -0.0\n",
       "House Style        0.0\n",
       "Year Built         0.0\n",
       "Year Remod/Add     0.0\n",
       "Roof Style        -0.0\n",
       "Roof Matl          0.0\n",
       "Exterior 1st       0.0\n",
       "Foundation         0.0\n",
       "Bsmt Cond          0.0\n",
       "Bsmt Unf SF       -0.0\n",
       "2nd Flr SF         0.0\n",
       "Bsmt Half Bath    -0.0\n",
       "Full Bath         -0.0\n",
       "Half Bath          0.0\n",
       "Garage Yr Blt      0.0\n",
       "Garage Cars        0.0\n",
       "Garage Cond       -0.0\n",
       "Wood Deck SF      -0.0\n",
       "Open Porch SF     -0.0\n",
       "3Ssn Porch        -0.0\n",
       "Misc Val          -0.0\n",
       "Mo Sold           -0.0\n",
       "MS Zoning_score   -0.0\n",
       "location_score     0.0"
      ]
     },
     "metadata": {},
     "output_type": "display_data"
    }
   ],
   "source": [
    "# Obtaining features that have been assined a coefficient of 0\n",
    "display(lasso_coeff_df[lasso_coeff_df['coeff'] == 0])"
   ]
  },
  {
   "cell_type": "code",
   "execution_count": 74,
   "metadata": {},
   "outputs": [
    {
     "data": {
      "text/plain": [
       "coeff    10189.48067\n",
       "Name: neighborhood_score, dtype: float64"
      ]
     },
     "metadata": {},
     "output_type": "display_data"
    }
   ],
   "source": [
    "display(lasso_coeff_df.loc['neighborhood_score'])"
   ]
  },
  {
   "cell_type": "markdown",
   "metadata": {},
   "source": [
    "Interesting, previously engineered features such as the `MS Zoning_score` and `location_score` have been assigned with a coefficient of 0 whereas `neighborhood_score` which contributes to the `location_score` has a high coefficient."
   ]
  },
  {
   "cell_type": "markdown",
   "metadata": {},
   "source": [
    "## 4. Further Model Refinement <a class=\"anchor\" id=\"chapter4\"></a>\n",
    "---\n",
    "\n",
    "Coefficients of 0 identified in the `LassoCV` model run previously will be removed as features from our original feature list and `LassoCV` model will be fitted again."
   ]
  },
  {
   "cell_type": "markdown",
   "metadata": {},
   "source": [
    "### 4.1 Defining refined selection of features as `X_ref` and scaling the data <a class=\"anchor\" id=\"section_4_1\"></a>"
   ]
  },
  {
   "cell_type": "code",
   "execution_count": 75,
   "metadata": {},
   "outputs": [],
   "source": [
    "# Obtaining list of features with lasso coefficient of 0\n",
    "coeff_0 = list(lasso_coeff_df[lasso_coeff_df['coeff'] == 0].index)\n",
    "\n",
    "# Dropping features from original feature list\n",
    "features_ref = [col for col in features if col not in coeff_0]"
   ]
  },
  {
   "cell_type": "code",
   "execution_count": 76,
   "metadata": {},
   "outputs": [],
   "source": [
    "# Create new X matrix based on refined parameters\n",
    "X_ref = train_df[features_ref]\n",
    "y = train_df['SalePrice']\n",
    "\n",
    "# Scale and fit the data\n",
    "ss = StandardScaler()\n",
    "ss.fit(X_ref)\n",
    "Xss_ref = ss.transform(X_ref)"
   ]
  },
  {
   "cell_type": "markdown",
   "metadata": {},
   "source": [
    "### 4.2 Refined model fitting <a class=\"anchor\" id=\"section_4_2\"></a>"
   ]
  },
  {
   "cell_type": "code",
   "execution_count": 77,
   "metadata": {},
   "outputs": [
    {
     "name": "stdout",
     "output_type": "stream",
     "text": [
      "The refined lasso model R2 score is 0.9047.\n"
     ]
    }
   ],
   "source": [
    "# Instantiate new instance of Lasso mode\n",
    "lasso_ref = LassoCV(n_alphas=200,max_iter=2000,n_jobs=-1)\n",
    "\n",
    "# Fit scaled data and obtain R2 score\n",
    "lasso_ref.fit(Xss_ref,y)\n",
    "lasso_ref_score = lasso_ref.score(Xss_ref,y)\n",
    "print(f\"The refined lasso model R2 score is {round(lasso_ref_score,4)}.\")"
   ]
  },
  {
   "cell_type": "markdown",
   "metadata": {},
   "source": [
    "### 4.3 Actuals vs Prediction based on refined model <a class=\"anchor\" id=\"section_4_3\"></a>"
   ]
  },
  {
   "cell_type": "code",
   "execution_count": 78,
   "metadata": {},
   "outputs": [
    {
     "data": {
      "image/png": "[encoded data removed]",
      "text/plain": [
       "<Figure size 1080x720 with 1 Axes>"
      ]
     },
     "metadata": {
      "needs_background": "light"
     },
     "output_type": "display_data"
    }
   ],
   "source": [
    "# Obtain predictions based on refined lasso model\n",
    "pred_ref = lasso_ref.predict(Xss_ref)\n",
    "\n",
    "# Plot predictions against actuals\n",
    "plt.figure(figsize=(15,10))\n",
    "plt.title(\"Plot of Actual vs Predicted Sale Price\", size = 15)\n",
    "plt.xlabel(\"Actual Sale Price\")\n",
    "plt.ylabel(\"Predicted Sale Price\")\n",
    "sns.regplot(x = y, y = pred_ref,marker='+',line_kws={'color':'indianred'});"
   ]
  },
  {
   "cell_type": "markdown",
   "metadata": {},
   "source": [
    "### 4.4 Residuals for refined model <a class=\"anchor\" id=\"section_4_4\"></a>"
   ]
  },
  {
   "cell_type": "code",
   "execution_count": 79,
   "metadata": {},
   "outputs": [
    {
     "name": "stdout",
     "output_type": "stream",
     "text": [
      "The RMSE for the model is 24475.6238.\n"
     ]
    },
    {
     "data": {
      "image/png": "[encoded data removed]",
      "text/plain": [
       "<Figure size 720x360 with 1 Axes>"
      ]
     },
     "metadata": {
      "needs_background": "light"
     },
     "output_type": "display_data"
    }
   ],
   "source": [
    "# Obtaining refined residuals\n",
    "residuals_ref = y - pred_ref\n",
    "RMSE_ref = np.sqrt(mean_squared_error(y,pred_ref))\n",
    "print(f\"The RMSE for the model is {round(RMSE_ref,4)}.\")\n",
    "\n",
    "# Plot distribution of residuals\n",
    "sns.displot(x=residuals_ref,bins=100,kde=True,aspect=2)\n",
    "plt.title(\"Distribution of Residuals\",size=15);"
   ]
  },
  {
   "cell_type": "markdown",
   "metadata": {},
   "source": [
    "### 4.5 Evaluation of results <a class=\"anchor\" id=\"section_4_5\"></a>\n",
    "\n",
    "Summary of steps performed:\n",
    "1. Fitted `LassoCV` with all parameters as defined in 'features'\n",
    "2. Obtained the R2 and RMSE\n",
    "3. Observed `LassoCV` coefficients and obtained list of parameters with coefficient = 0\n",
    "4. Refined original features list by removing paramenters with coefficient = 0\n",
    "5. Re-fitted `LassoCV` with new refined features\n",
    "5. Obtained the R2 and RMSE for the new refined model\n",
    "\n",
    "|Parameters Used|R2 Score|RMSE|\n",
    "|:-:|:-:|:-:|\n",
    "|Originial features|0.9008|24,970.5444|\n",
    "|Refined features|0.9047|24,475.6238|"
   ]
  },
  {
   "cell_type": "markdown",
   "metadata": {},
   "source": [
    "It is observed that both the R2 and RMSE for the refined features has improved, although the improvement is rather minor and insignificant."
   ]
  },
  {
   "cell_type": "markdown",
   "metadata": {},
   "source": [
    "## 5. Test Data Prediction <a class=\"anchor\" id=\"chapter5\"></a>\n",
    "---\n",
    "\n",
    "Based on the `LassoCV` model, predictions will be run on the test data set and file will be exported for Kaggle submission. 2 separate files will be created for the model with `original features` and `refined features` to compare the results."
   ]
  },
  {
   "cell_type": "markdown",
   "metadata": {},
   "source": [
    "### 5.1 Original features lasso model <a class=\"anchor\" id=\"section_5_1\"></a>"
   ]
  },
  {
   "cell_type": "code",
   "execution_count": 80,
   "metadata": {},
   "outputs": [],
   "source": [
    "# Creating feature matrix\n",
    "X_test = test_df[features]\n",
    "\n",
    "# Scaling the feature matrix for use in LassoCV\n",
    "ss.fit(X_test)\n",
    "Xss_test = ss.transform(X_test)\n",
    "\n",
    "# Use fitted lasso model to predict values for test data set\n",
    "pred_test = lasso.predict(Xss_test)\n",
    "\n",
    "# Export data for Kaggle submission\n",
    "test_result = pd.DataFrame(data = {'Id':test_df['Id'],'SalePrice':pred_test})\n",
    "test_result.to_csv(\"../datasets/test_results.csv\",index=False)"
   ]
  },
  {
   "cell_type": "markdown",
   "metadata": {},
   "source": [
    "### 5.2 Refined features lasso model <a class=\"anchor\" id=\"section_5_2\"></a>"
   ]
  },
  {
   "cell_type": "code",
   "execution_count": 81,
   "metadata": {},
   "outputs": [],
   "source": [
    "# Creating feature matrix\n",
    "Xref_test = test_df[features_ref]\n",
    "\n",
    "# Scaling the feature matrix for use in LassoCV\n",
    "ss.fit(Xref_test)\n",
    "Xrefss_test = ss.transform(Xref_test)\n",
    "\n",
    "# Use fitted lasso model to predict values for test data set\n",
    "pred_ref_test = lasso_ref.predict(Xrefss_test)\n",
    "\n",
    "# Export data for Kaggle submission\n",
    "test_result_ref = pd.DataFrame(data = {'Id':test_df['Id'],'SalePrice':pred_ref_test})\n",
    "test_result_ref.to_csv(\"../datasets/test_results_ref.csv\",index=False)"
   ]
  },
  {
   "cell_type": "markdown",
   "metadata": {},
   "source": [
    "### 5.3 Kaggle results <a class=\"anchor\" id=\"section_5_3\"></a>"
   ]
  },
  {
   "cell_type": "markdown",
   "metadata": {},
   "source": [
    "#### Original Parameters"
   ]
  },
  {
   "cell_type": "markdown",
   "metadata": {},
   "source": [
    "![original](../images/original_kaggle_results.png)"
   ]
  },
  {
   "cell_type": "markdown",
   "metadata": {},
   "source": [
    "#### Refined Parameters"
   ]
  },
  {
   "cell_type": "markdown",
   "metadata": {},
   "source": [
    "![refined](../images/refined_kaggle_results.png)"
   ]
  },
  {
   "cell_type": "markdown",
   "metadata": {},
   "source": [
    "## 6. Conclusion <a class=\"anchor\" id=\"chapter6\"></a>\n",
    "---\n",
    "\n",
    "- Based on the cross validation results, `LassoCV` was the model that had the lower bias and variance\n",
    "- Results of the model showed a RMSE of 24,971 with normally distributed residuals, indicating that the model generalises well and was the right model to be used\n",
    "- Running the model on the Kaggle data set revealed a RMSE of 29,497, which is a successful outcome based on our Data Science problem statement\n",
    "- Attempts to refine the model by removing parameters with `Lasso` coefficient of 0 proved to show no significant improvements\n",
    "- Kaggle score from the refined model was 29,610, suggesting no difference from the initial instance of the model\n",
    "- This could possible be due to the use of OneHotEncoder, which compared to GetDummies, does not create additional columns but instead turns each value within the column into an array\n",
    "- Those parameters with 0 coefficient have already been effectively removed in the initial instance of the `Lasso` model, which is a possible reason why there were no improvements in the score\n",
    "- Model could be retested using a GetDummies approach instead of OneHotEncoder in order to test if removing parameters with coefficient 0 after the first instance of the `Lasso` model could help improve the results"
   ]
  },
  {
   "cell_type": "markdown",
   "metadata": {},
   "source": [
    "## 7. Limitations <a class=\"anchor\" id=\"chapter7\"></a>\n",
    "---\n",
    "\n",
    "### 7.1 Long term prediction <a class=\"anchor\" id=\"section7_1\"></a>\n",
    "The model that has been built has shown to be rather accurate at predicting properties. However. this model runs on past data and is only as good as how recent the database is. While it may be quite accurate in terms of predicting the value of a property in the next 1 or 2 years, it will not be able to predict the potential value in a longer period of time (5 or more years) that would be more for investment purposes. \n",
    "\n",
    "### 7.2 Scope <a class=\"anchor\" id=\"section7_2\"></a>\n",
    "The scope of this model is contained to prediction of properties that already have buildings/houses built due to the nature of the data. Therefore, when it comes to predicting the value of an area of land for example, the scope would be different and results would not be reliable.\n",
    "\n",
    "### 7.3 Location score <a class=\"anchor\" id=\"section7_3\"></a>\n",
    "The model relied on a engineered feature `neighborhood_score`, which assigned a ordinal value to the different neighborhoods based on the mean of that neighborhood's `built_in_ppsf`. While this may be a good past indicator in terms of value of a neighborhood value, it might not take into factor future developments. Therefore, increased development in infrastructure in retail & dining, healthcare, education that are important in determining the value of a neighborhood will not be factored in only until there are enough eventual sales in that neighborhood. Therefore, in the data collection process, it would be good to consider collection of data points such as proximity to positive public infrastructure to further refine predictions."
   ]
  },
  {
   "cell_type": "code",
   "execution_count": null,
   "metadata": {},
   "outputs": [],
   "source": []
  }
 ],
 "metadata": {
  "kernelspec": {
   "display_name": "Python 3",
   "language": "python",
   "name": "python3"
  },
  "language_info": {
   "codemirror_mode": {
    "name": "ipython",
    "version": 3
   },
   "file_extension": ".py",
   "mimetype": "text/x-python",
   "name": "python",
   "nbconvert_exporter": "python",
   "pygments_lexer": "ipython3",
   "version": "3.8.3"
  }
 },
 "nbformat": 4,
 "nbformat_minor": 4
}
